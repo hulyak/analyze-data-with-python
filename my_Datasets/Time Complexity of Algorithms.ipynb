{
 "cells": [
  {
   "cell_type": "markdown",
   "metadata": {},
   "source": [
    "An algorithm is a program or function that solves some specific problem. For example, a sorting algorithm is an algorithm that, given a list of values, outputs that same list of values but rearranges them in increasing (or decreasing) order."
   ]
  },
  {
   "cell_type": "code",
   "execution_count": 2,
   "metadata": {},
   "outputs": [
    {
     "name": "stdout",
     "output_type": "stream",
     "text": [
      "6\n"
     ]
    }
   ],
   "source": [
    "test_values = [4, 3, 5, 6, 2, 1]\n",
    "\n",
    "def maximum(values):\n",
    "    answer = None    #This variable will be used to keep track of the maximum. It starts at None so that at the first iteration, we always update it.\n",
    "    for value in values:\n",
    "        if answer == None or answer < value:\n",
    "            answer = value\n",
    "    return answer\n",
    "\n",
    "max_value = maximum(test_values)\n",
    "print(max_value)"
   ]
  },
  {
   "cell_type": "markdown",
   "metadata": {},
   "source": [
    "We're going to learn how to measure the execution time of a Python function. Ultimately, our goal is not to measure the time of a specific execution of an algorithm, but rather to analyze the algorithm and predict how the execution time will evolve as data grows larger.\n",
    "\n",
    "Intuitively, the more data an algorithm needs to process, the more time it will take to run. What we are interested in is building a model that tells us by how much the execution time grows as we increase the amount of data. We call these models **the time complexity of an algorithm.** By analyzing the time complexity of an algorithm, we want to be able to answer questions like:\n",
    "\n",
    "*If we double the data, do we double the execution time, do we quadruple it, or something else entirely?*\n",
    "\n",
    "Our starting point will be measuring execution times because it will help us build valuable intuition. Let's start by learning how to measure the execution time of a Python function.\n",
    "\n",
    "Python offers a few different ways to do this. We will use the **time module**. Calling the *time.time()* function, we get the total number of seconds that have passed from January 1, 1970, until now (depending on your OS, this date might change, but that does not matter for what follows).\n",
    "\n",
    "Try running the following code:\n"
   ]
  },
  {
   "cell_type": "code",
   "execution_count": 3,
   "metadata": {},
   "outputs": [
    {
     "name": "stdout",
     "output_type": "stream",
     "text": [
      "1595443814.1644711\n"
     ]
    }
   ],
   "source": [
    "import time\n",
    "print(time.time())"
   ]
  },
  {
   "cell_type": "markdown",
   "metadata": {},
   "source": [
    "As we said, the number that we get is the total number of seconds that have passed between January 1, 1970, and now.\n",
    "\n",
    "Using the *time.time()* function, we can measure the time a Python function takes to execute by computing the difference between the time just after the function finishes executing and the time just before it started executing. If we call the time just before the execution **start** and the time just after **end**, then the execution time of the function will be **end - start** — as shown in blue on the following diagram:\n",
    "\n",
    "Concretely, we can measure the execution time of a function f() in Python as follows:\n",
    "\n",
    "- import time                \n",
    "- start = time.time()        \n",
    "- f()\n",
    "- end = time.time()          \n",
    "- runtime = end - start\n",
    "\n",
    "Let's try it out and measure the runtime of the maximum() function that we wrote on the previous screen!"
   ]
  },
  {
   "cell_type": "code",
   "execution_count": 10,
   "metadata": {},
   "outputs": [
    {
     "name": "stdout",
     "output_type": "stream",
     "text": [
      "1595444396.6662002\n",
      "1595444396.666857\n",
      "0.0006568431854248047\n"
     ]
    }
   ],
   "source": [
    "test_values = [4, 3, 5, 6, 2, 1]\n",
    "def maximum(values):\n",
    "    answer = None\n",
    "    for value in values:\n",
    "        if answer == None or answer < value:\n",
    "            answer = value\n",
    "    return answer\n",
    "\n",
    "import time\n",
    "start = time.time()\n",
    "print(start) #to compute the number of seconds just before you execute maximum()\n",
    "\n",
    "max_value = maximum(test_values)\n",
    "end = time.time() \n",
    "print(end)  #to compute the number of seconds just after maximum() finished executing.\n",
    "\n",
    "runtime = end - start\n",
    "print(runtime)"
   ]
  },
  {
   "cell_type": "markdown",
   "metadata": {},
   "source": [
    "Just a single measurement doesn't help us understand how the maximum() function behaves in terms of execution time.\n",
    "\n",
    "Let's make the input length vary from length 1 to 500 and collect the execution time for each of them. The goal is to have an insight into how the execution evolves as the length of the list grows.\n",
    "\n",
    "To do our experiment, we will need to have input lists with sizes 1 to 500 to execute the maximum() function. One way to generate these inputs is to use the **random module**. This module provides, among other things, the **random.randint()** function that, given two integers a and b, outputs a random number between a and b (inclusive).\n",
    "\n",
    "Using list comprehensions, we can use the random.randint() function to generate a random list of length 500 with values, say, from -1,000 to 1,000, as follows:"
   ]
  },
  {
   "cell_type": "code",
   "execution_count": 12,
   "metadata": {},
   "outputs": [],
   "source": [
    "import random\n",
    "values = [random.randint(-1000, 1000) for _ in range(500)]"
   ]
  },
  {
   "cell_type": "markdown",
   "metadata": {},
   "source": [
    "Notice that we used the _ notation in the above for loop. This is a notation that can be used when we do not use the iteration variable. It gives the exact same result that we would get using some variable name, but avoids having to find a name for something that we will not use.\n",
    "\n",
    "Since we want to be able to generate inputs of lengths 1 to 500, it is convenient to define a function that takes as input a length and outputs a random list of the given length:"
   ]
  },
  {
   "cell_type": "code",
   "execution_count": 13,
   "metadata": {},
   "outputs": [],
   "source": [
    "def gen_input(length):\n",
    "    return [random.randint(-1000, 1000) for _ in range(length)]"
   ]
  },
  {
   "cell_type": "markdown",
   "metadata": {},
   "source": [
    "We can now evaluate the execution time of the maximum() function on inputs ranging from length 1 to 500 by following these steps:\n",
    "\n",
    "Using a for loop, make a variable length go over all values from 1 to 500\n",
    "For each value of length, use the gen_input() function to get a random list of that length.\n",
    "Use the time module to time the execution of the function on the generated input.\n",
    "Collect all the values in a list"
   ]
  },
  {
   "cell_type": "code",
   "execution_count": null,
   "metadata": {},
   "outputs": [],
   "source": []
  }
 ],
 "metadata": {
  "kernelspec": {
   "display_name": "Python 3",
   "language": "python",
   "name": "python3"
  },
  "language_info": {
   "codemirror_mode": {
    "name": "ipython",
    "version": 3
   },
   "file_extension": ".py",
   "mimetype": "text/x-python",
   "name": "python",
   "nbconvert_exporter": "python",
   "pygments_lexer": "ipython3",
   "version": "3.7.6"
  }
 },
 "nbformat": 4,
 "nbformat_minor": 4
}
