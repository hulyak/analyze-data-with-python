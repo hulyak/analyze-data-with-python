{
 "cells": [
  {
   "cell_type": "markdown",
   "metadata": {},
   "source": [
    "# The Museum of Modern Art (MoMA)\n",
    "We're going to work with data about the art in the Museum of Modern Art (MoMA). MoMA, a museum in New York City, has one of the largest collections of modern art in the world."
   ]
  },
  {
   "cell_type": "markdown",
   "metadata": {},
   "source": [
    "MoMA publishes several data sets in their GitHub repository. We'll work with a version of their artwork data set that has been prepared for this mission. We have prepared the data for teaching purposes and sampled the size of the data set down from over 135,000 rows to a more manageable 17,000 rows."
   ]
  },
  {
   "cell_type": "markdown",
   "metadata": {},
   "source": [
    "MoMA doesn't provide a data dictionary for the data, but we have provided an explanation of each column for you:\n",
    "\n",
    "- Title: The title of the artwork.\n",
    "- Artist: The name of the artist who created the artwork.\n",
    "- Nationality: The nationality of the artist.\n",
    "- BeginDate: The year in which the artist was born.\n",
    "- EndDate: The year in which the artist died.\n",
    "- Gender: The gender of the artist.\n",
    "- Date: The date that the artwork was created.\n",
    "- Department: The department inside MoMA to which the artwork belongs."
   ]
  },
  {
   "cell_type": "code",
   "execution_count": 41,
   "metadata": {},
   "outputs": [],
   "source": [
    "# import the reader function from the csv module\n",
    "from csv import reader\n",
    "\n",
    "# use the python built-in function open()\n",
    "# to open the children.csv file\n",
    "opened_file = open('artworks.csv')\n",
    "\n",
    "# use csv.reader() to parse the data from\n",
    "# the opened file\n",
    "read_file = reader(opened_file)\n",
    "\n",
    "# use list() to convert the read file\n",
    "# into a list of lists format\n",
    "moma = list(read_file)\n",
    "\n",
    "# remove the first row of the data, which\n",
    "# contains the column names\n",
    "moma = moma[1:]"
   ]
  },
  {
   "cell_type": "code",
   "execution_count": 42,
   "metadata": {},
   "outputs": [
    {
     "name": "stdout",
     "output_type": "stream",
     "text": [
      "American\n",
      "Dutch\n",
      "Swiss\n",
      "\n",
      "\n",
      "Male\n",
      "Female\n",
      "Male\n"
     ]
    }
   ],
   "source": [
    "# removing the parentheses from both the Nationality and Gender columns\n",
    "for row in moma:\n",
    "    nationality = row[2]\n",
    "    nationality = nationality.replace(\"(\", \"\")\n",
    "    nationality = nationality.replace(\")\", \"\")\n",
    "    row[2] = nationality\n",
    "  \n",
    "    gender = row[5]\n",
    "    gender = gender.replace(\"(\", \"\")\n",
    "    gender = gender.replace(\")\", \"\")\n",
    "    row[5] = gender\n",
    "    \n",
    "print(moma[300][2])\n",
    "print(moma[400][2])\n",
    "print(moma[500][2])\n",
    "print(\"\\n\")\n",
    "print(moma[300][5])\n",
    "print(moma[400][5])\n",
    "print(moma[500][5])    "
   ]
  },
  {
   "cell_type": "markdown",
   "metadata": {},
   "source": [
    "The *str.title()* method returns a copy of the string with the first letter of each word transformed to uppercase (also known as title case)."
   ]
  },
  {
   "cell_type": "code",
   "execution_count": 43,
   "metadata": {},
   "outputs": [],
   "source": [
    "\n",
    "for row in moma:\n",
    "    gender = row[5]\n",
    "    \n",
    "     # convert the gender to title case\n",
    "    gender = gender.title()\n",
    "    \n",
    "    # if there is no gender, set\n",
    "    # a descriptive value\n",
    "    if not gender:\n",
    "        gender = 'Gender Unknown/Other'\n",
    "    \n",
    "    row[5] = gender\n",
    "    \n",
    "    \n",
    "    nationality = row[2]\n",
    "    \n",
    "    nationality = nationality.title()\n",
    "    \n",
    "    if not nationality:\n",
    "        nationality = 'Nationality Unknown'\n",
    "    \n",
    "    row[2] = nationality\n",
    "   \n"
   ]
  },
  {
   "cell_type": "code",
   "execution_count": 49,
   "metadata": {},
   "outputs": [
    {
     "ename": "AttributeError",
     "evalue": "'int' object has no attribute 'replace'",
     "output_type": "error",
     "traceback": [
      "\u001b[0;31m---------------------------------------------------------------------------\u001b[0m",
      "\u001b[0;31mAttributeError\u001b[0m                            Traceback (most recent call last)",
      "\u001b[0;32m<ipython-input-49-f2f8517867eb>\u001b[0m in \u001b[0;36m<module>\u001b[0;34m\u001b[0m\n\u001b[1;32m     13\u001b[0m     \u001b[0mdeath_date\u001b[0m \u001b[0;34m=\u001b[0m \u001b[0mrow\u001b[0m\u001b[0;34m[\u001b[0m\u001b[0;36m4\u001b[0m\u001b[0;34m]\u001b[0m\u001b[0;34m\u001b[0m\u001b[0;34m\u001b[0m\u001b[0m\n\u001b[1;32m     14\u001b[0m \u001b[0;34m\u001b[0m\u001b[0m\n\u001b[0;32m---> 15\u001b[0;31m     \u001b[0mbirth_date\u001b[0m \u001b[0;34m=\u001b[0m \u001b[0mclean_and_convert\u001b[0m\u001b[0;34m(\u001b[0m\u001b[0mbirth_date\u001b[0m\u001b[0;34m)\u001b[0m\u001b[0;34m\u001b[0m\u001b[0;34m\u001b[0m\u001b[0m\n\u001b[0m\u001b[1;32m     16\u001b[0m     \u001b[0mdeath_date\u001b[0m \u001b[0;34m=\u001b[0m \u001b[0mclean_and_convert\u001b[0m\u001b[0;34m(\u001b[0m\u001b[0mdeath_date\u001b[0m\u001b[0;34m)\u001b[0m\u001b[0;34m\u001b[0m\u001b[0;34m\u001b[0m\u001b[0m\n\u001b[1;32m     17\u001b[0m \u001b[0;34m\u001b[0m\u001b[0m\n",
      "\u001b[0;32m<ipython-input-49-f2f8517867eb>\u001b[0m in \u001b[0;36mclean_and_convert\u001b[0;34m(date)\u001b[0m\n\u001b[1;32m      4\u001b[0m         \u001b[0;31m# move the rest of the function inside\u001b[0m\u001b[0;34m\u001b[0m\u001b[0;34m\u001b[0m\u001b[0;34m\u001b[0m\u001b[0m\n\u001b[1;32m      5\u001b[0m         \u001b[0;31m# the if statement\u001b[0m\u001b[0;34m\u001b[0m\u001b[0;34m\u001b[0m\u001b[0;34m\u001b[0m\u001b[0m\n\u001b[0;32m----> 6\u001b[0;31m         \u001b[0mdate\u001b[0m \u001b[0;34m=\u001b[0m \u001b[0mdate\u001b[0m\u001b[0;34m.\u001b[0m\u001b[0mreplace\u001b[0m\u001b[0;34m(\u001b[0m\u001b[0;34m\"(\"\u001b[0m\u001b[0;34m,\u001b[0m \u001b[0;34m\"\"\u001b[0m\u001b[0;34m)\u001b[0m\u001b[0;34m\u001b[0m\u001b[0;34m\u001b[0m\u001b[0m\n\u001b[0m\u001b[1;32m      7\u001b[0m         \u001b[0mdate\u001b[0m \u001b[0;34m=\u001b[0m \u001b[0mdate\u001b[0m\u001b[0;34m.\u001b[0m\u001b[0mreplace\u001b[0m\u001b[0;34m(\u001b[0m\u001b[0;34m\")\"\u001b[0m\u001b[0;34m,\u001b[0m \u001b[0;34m\"\"\u001b[0m\u001b[0;34m)\u001b[0m\u001b[0;34m\u001b[0m\u001b[0;34m\u001b[0m\u001b[0m\n\u001b[1;32m      8\u001b[0m         \u001b[0mprint\u001b[0m\u001b[0;34m(\u001b[0m\u001b[0mdate\u001b[0m\u001b[0;34m)\u001b[0m\u001b[0;34m\u001b[0m\u001b[0;34m\u001b[0m\u001b[0m\n",
      "\u001b[0;31mAttributeError\u001b[0m: 'int' object has no attribute 'replace'"
     ]
    }
   ],
   "source": [
    "def clean_and_convert(date):\n",
    "    # check that we don't have an empty string\n",
    "    if date != \"\":\n",
    "        # move the rest of the function inside\n",
    "        # the if statement\n",
    "        date = date.replace(\"(\", \"\")\n",
    "        date = date.replace(\")\", \"\")\n",
    "        print(date)\n",
    "#         date = (date)\n",
    "    return date\n",
    "for row in moma:\n",
    "    birth_date = row[3]\n",
    "    death_date = row[4]\n",
    "    \n",
    "    birth_date = clean_and_convert(birth_date)\n",
    "    death_date = clean_and_convert(death_date)\n",
    "    \n",
    "    row[3] = birth_date\n",
    "    row[4] = death_date\n",
    " "
   ]
  },
  {
   "cell_type": "code",
   "execution_count": 45,
   "metadata": {},
   "outputs": [
    {
     "name": "stdout",
     "output_type": "stream",
     "text": [
      "['1912', '1929', '1913-1923', '1951', '1994', '1934', '1915', '1995', '1912', '1988', '2002', '1957-1959', '1955', '1970', '1990-1999']\n"
     ]
    }
   ],
   "source": [
    "test_data = [\"1912\", \"1929\", \"1913-1923\",\n",
    "             \"(1951)\", \"1994\", \"1934\",\n",
    "             \"c. 1915\", \"1995\", \"c. 1912\",\n",
    "             \"(1988)\", \"2002\", \"1957-1959\",\n",
    "             \"c. 1955.\", \"c. 1970's\", \n",
    "             \"C. 1990-1999\"]\n",
    "\n",
    "bad_chars = [\"(\",\")\",\"c\",\"C\",\".\",\"s\",\"'\", \" \"]\n",
    "\n",
    "def strip_characters(string):\n",
    "    for char in bad_chars:\n",
    "        string = string.replace(char, \"\")\n",
    "    return string\n",
    "\n",
    "stripped_test_data = []\n",
    "\n",
    "for d in test_data:\n",
    "    date  = strip_characters(d)\n",
    "    stripped_test_data.append(date)\n",
    "\n",
    "print(stripped_test_data)"
   ]
  },
  {
   "cell_type": "code",
   "execution_count": 46,
   "metadata": {},
   "outputs": [],
   "source": [
    "test_data = [\"1912\", \"1929\", \"1913-1923\",\n",
    "             \"(1951)\", \"1994\", \"1934\",\n",
    "             \"c. 1915\", \"1995\", \"c. 1912\",\n",
    "             \"(1988)\", \"2002\", \"1957-1959\",\n",
    "             \"c. 1955.\", \"c. 1970's\", \n",
    "             \"C. 1990-1999\"]\n",
    "\n",
    "bad_chars = [\"(\",\")\",\"c\",\"C\",\".\",\"s\",\"'\", \" \"]\n",
    "\n",
    "def strip_characters(string):\n",
    "    for char in bad_chars:\n",
    "        string = string.replace(char,\"\")\n",
    "    return string\n",
    "\n",
    "stripped_test_data = ['1912', '1929', '1913-1923',\n",
    "                      '1951', '1994', '1934',\n",
    "                      '1915', '1995', '1912',\n",
    "                      '1988', '2002', '1957-1959',\n",
    "                      '1955', '1970', '1990-1999']\n",
    "\n",
    "def process_date(date):\n",
    "    if '-' in date :                   #Checks if the dash character (-) is in the string so we know if it's a range or not. \n",
    "        split_date = date.split(\"-\")   #Splits the string into two strings, before and after the dash character\n",
    "        date_one = split_date[0] \n",
    "        date_two = split_date[1]\n",
    "        date = (int(date_one) + int(date_two)) / 2  #Converts the two numbers to the integer type and then average them by adding them together and dividing by two\n",
    "        date = round(date) \n",
    "        \n",
    "    else:\n",
    "        date = int(date)   #Converts the value to an integer type\n",
    "    return date\n",
    "\n",
    "        \n",
    "processed_test_data = []\n",
    "for d in stripped_test_data:\n",
    "    date = process_date(d)\n",
    "    processed_test_data.append(date)\n",
    "\n",
    "for row in moma:\n",
    "    date = row[6]\n",
    "    date = strip_characters(date)        #remove any bad characters.\n",
    "    date = process_date(date)       #convert the date.\n",
    "    row[6] = date\n",
    "    "
   ]
  },
  {
   "cell_type": "markdown",
   "metadata": {},
   "source": [
    "In this mission, we'll build on the data cleaning we did with the Museum of Modern Art (MoMA) data set in the previous mission, and get into the fun part: analyzing the data!\n",
    "\n",
    "These techniques will be extremely valuable as you continue to learn how to be a data expert. You'll not only use them whenever you analyze data, but also when you explore data before performing a more complex task, such as machine learning. We'll learn how to:\n",
    "\n",
    "- Calculate how old the artist was when they created their artwork.\n",
    "- Analyze and interpret the distribution of artist ages.\n",
    "- Create functions which summarize our data.\n",
    "- Print summaries in an easy-to-read-way.\n",
    "\n",
    "So that you don't have to re-clean the data, we have prepared a CSV containing all of the data cleaning you performed, called artworks_clean.csv. Even though we converted the numeric columns to integer types in the previous mission, when we saved the results as a CSV, they became text data again.\n",
    "\n",
    "Even though we don't have to clean the data again, we do have to convert these values to numeric types so we can analyze them. You may remember that some of the rows have missing values, so we'll need to handle those as well."
   ]
  },
  {
   "cell_type": "code",
   "execution_count": 47,
   "metadata": {},
   "outputs": [],
   "source": [
    "from csv import reader\n",
    "\n",
    "# Read the `artworks_clean.csv` file\n",
    "opened_file = open('artworks_clean.csv')\n",
    "read_file = reader(opened_file)\n",
    "moma = list(read_file)\n",
    "moma = moma[1:]\n",
    "\n",
    "# Convert the birthdate values to integer\n",
    "for row in moma:\n",
    "    birth_date = row[3]\n",
    "    if birth_date != \"\":\n",
    "        birth_date = int(birth_date)\n",
    "    row[3] = birth_date\n",
    "    \n",
    "# Convert the death date values to integer\n",
    "for row in moma:\n",
    "    death_date = row[4]\n",
    "    if death_date != \"\":\n",
    "        death_date = int(death_date)\n",
    "    row[4] = death_date\n",
    "\n",
    "# Convert date values to integer\n",
    "for row in moma : \n",
    "    date = row[6]\n",
    "    if date != \"\":\n",
    "        date = int(date)\n",
    "    row[6] = date"
   ]
  },
  {
   "cell_type": "markdown",
   "metadata": {},
   "source": [
    "We're going to work on calculating the ages at which artists created their pieces of art. We need to subtract the artist's birth year (BeginDate) from the year in which their artwork was created (Date).\n",
    "\n",
    "While every row has a value for Date, there are some that are missing values for BeginDate. When we cleaned BeginDate, we encountered some missing values and left them as empty strings (\"\"). We'll use a value of 0 for these cases, which we'll replace with something more meaningful later on.\n",
    "\n",
    "There are a handful of cases where the artist's age (according to our data set) is very low, including some where the age is negative. We could investigate these specific cases one by one, but since we're looking for a summary, we'll take care of these by categorizing artists younger than 20 as \"Unknown\" also. This has the handy effect of also categorizing the artists without birth years as \"Unknown\".\n"
   ]
  },
  {
   "cell_type": "code",
   "execution_count": 48,
   "metadata": {},
   "outputs": [],
   "source": [
    "ages = []   #create an empty list, to store the artist age data\n",
    "for row in moma:\n",
    "    date = row[6]\n",
    "    birth = row[3]\n",
    "    if type(birth) == int:\n",
    "        age = date - birth\n",
    "    else:\n",
    "        age = 0\n",
    "    ages.append(age)\n",
    "    \n",
    "final_ages = []  #to store the final age data.\n",
    "for age in ages:\n",
    "    if age > 20:\n",
    "        final_age = age\n",
    "    else:\n",
    "        final_age = 'Unknown'\n",
    "    final_ages.append(final_age)"
   ]
  },
  {
   "cell_type": "code",
   "execution_count": null,
   "metadata": {},
   "outputs": [],
   "source": []
  }
 ],
 "metadata": {
  "kernelspec": {
   "display_name": "Python 3",
   "language": "python",
   "name": "python3"
  },
  "language_info": {
   "codemirror_mode": {
    "name": "ipython",
    "version": 3
   },
   "file_extension": ".py",
   "mimetype": "text/x-python",
   "name": "python",
   "nbconvert_exporter": "python",
   "pygments_lexer": "ipython3",
   "version": "3.8.3"
  }
 },
 "nbformat": 4,
 "nbformat_minor": 4
}
