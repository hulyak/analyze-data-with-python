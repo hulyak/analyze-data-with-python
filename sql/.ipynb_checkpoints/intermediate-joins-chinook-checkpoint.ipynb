{
 "cells": [
  {
   "cell_type": "markdown",
   "metadata": {},
   "source": [
    "# Chinook \n",
    "\n",
    "In this mission we'll learn some new techniques to work with the sort of databases that most businesses will use. We'll be working with a modified version of a database called [Chinook](https://github.com/lerocha/chinook-database). The Chinook database contains information about a fictional digital music shop - kind of like a mini-iTunes store.\n",
    "\n",
    "The Chinook database contains information about the artists, songs, and albums from the music shop, as well as information on the shop's employees, customers, and the customers purchases. This information is contained in eleven tables.\n",
    "\n",
    "![https://s3.amazonaws.com/dq-content/189/chinook-schema.svg](https://s3.amazonaws.com/dq-content/189/chinook-schema.svg)"
   ]
  },
  {
   "cell_type": "code",
   "execution_count": 1,
   "metadata": {},
   "outputs": [],
   "source": [
    "%%capture\n",
    "%load_ext sql\n",
    "%sql sqlite:///chinook.db"
   ]
  },
  {
   "cell_type": "code",
   "execution_count": 2,
   "metadata": {},
   "outputs": [
    {
     "name": "stdout",
     "output_type": "stream",
     "text": [
      " * sqlite:///chinook.db\n",
      "Done.\n"
     ]
    },
    {
     "data": {
      "text/html": [
       "<table>\n",
       "    <tr>\n",
       "        <th>album_id</th>\n",
       "        <th>title</th>\n",
       "        <th>artist_id</th>\n",
       "    </tr>\n",
       "    <tr>\n",
       "        <td>1</td>\n",
       "        <td>For Those About To Rock We Salute You</td>\n",
       "        <td>1</td>\n",
       "    </tr>\n",
       "    <tr>\n",
       "        <td>2</td>\n",
       "        <td>Balls to the Wall</td>\n",
       "        <td>2</td>\n",
       "    </tr>\n",
       "    <tr>\n",
       "        <td>3</td>\n",
       "        <td>Restless and Wild</td>\n",
       "        <td>2</td>\n",
       "    </tr>\n",
       "</table>"
      ],
      "text/plain": [
       "[(1, 'For Those About To Rock We Salute You', 1),\n",
       " (2, 'Balls to the Wall', 2),\n",
       " (3, 'Restless and Wild', 2)]"
      ]
     },
     "execution_count": 2,
     "metadata": {},
     "output_type": "execute_result"
    }
   ],
   "source": [
    "%%sql\n",
    "SELECT * FROM album LIMIT 3;"
   ]
  },
  {
   "cell_type": "markdown",
   "metadata": {},
   "source": [
    "## Joining Three Tables\n",
    "\n",
    "Our first task is to gather some information on a specific purchase. For one single purchase (`invoice_id`) we want to know, for each track purchased:\n",
    "\n",
    "- The id of the track.\n",
    "- The name of the track.\n",
    "- The name of media type of the track.\n",
    "- The price that the customer paid for the track.\n",
    "- The quantity of the track that was purchased.\n",
    "To gather this information, we will need to write a query that joins 3 tables: `invoice_line`, `track`, and `media_type`.\n",
    "\n",
    "Let's look at the syntax for joining data from more than 2 tables.\n",
    "\n",
    "SELECT [column_names] FROM [table_name_one]\n",
    "\n",
    "[join_type] JOIN [table_name_two] ON [join_constraint]\n",
    "\n",
    "[join_type] JOIN [table_name_three] ON [join_constraint];\n",
    "\n",
    "Joining multiple tables is as simple as adding an extra JOIN clause. The SQL engine interprets joins in order, so the first join will be executed, and then the second join will be executed against the result of the first join. Because of this, we can first build our query in steps:\n",
    "\n",
    "    - with 0 joins.\n",
    "    - with 1 join.\n",
    "    - with 2 joins."
   ]
  },
  {
   "cell_type": "code",
   "execution_count": 4,
   "metadata": {},
   "outputs": [
    {
     "name": "stdout",
     "output_type": "stream",
     "text": [
      " * sqlite:///chinook.db\n",
      "Done.\n"
     ]
    },
    {
     "data": {
      "text/html": [
       "<table>\n",
       "    <tr>\n",
       "        <th>invoice_line_id</th>\n",
       "        <th>invoice_id</th>\n",
       "        <th>track_id</th>\n",
       "        <th>unit_price</th>\n",
       "        <th>quantity</th>\n",
       "    </tr>\n",
       "    <tr>\n",
       "        <td>1</td>\n",
       "        <td>1</td>\n",
       "        <td>1158</td>\n",
       "        <td>0.99</td>\n",
       "        <td>1</td>\n",
       "    </tr>\n",
       "    <tr>\n",
       "        <td>2</td>\n",
       "        <td>1</td>\n",
       "        <td>1159</td>\n",
       "        <td>0.99</td>\n",
       "        <td>1</td>\n",
       "    </tr>\n",
       "    <tr>\n",
       "        <td>3</td>\n",
       "        <td>1</td>\n",
       "        <td>1160</td>\n",
       "        <td>0.99</td>\n",
       "        <td>1</td>\n",
       "    </tr>\n",
       "</table>"
      ],
      "text/plain": [
       "[(1, 1, 1158, 0.99, 1), (2, 1, 1159, 0.99, 1), (3, 1, 1160, 0.99, 1)]"
      ]
     },
     "execution_count": 4,
     "metadata": {},
     "output_type": "execute_result"
    }
   ],
   "source": [
    "%%sql\n",
    "SELECT * from invoice_line Limit 3;"
   ]
  },
  {
   "cell_type": "code",
   "execution_count": 5,
   "metadata": {},
   "outputs": [
    {
     "name": "stdout",
     "output_type": "stream",
     "text": [
      " * sqlite:///chinook.db\n",
      "Done.\n"
     ]
    },
    {
     "data": {
      "text/html": [
       "<table>\n",
       "    <tr>\n",
       "        <th>track_id</th>\n",
       "        <th>name</th>\n",
       "        <th>album_id</th>\n",
       "        <th>media_type_id</th>\n",
       "        <th>genre_id</th>\n",
       "        <th>composer</th>\n",
       "        <th>milliseconds</th>\n",
       "        <th>bytes</th>\n",
       "        <th>unit_price</th>\n",
       "    </tr>\n",
       "    <tr>\n",
       "        <td>1</td>\n",
       "        <td>For Those About To Rock (We Salute You)</td>\n",
       "        <td>1</td>\n",
       "        <td>1</td>\n",
       "        <td>1</td>\n",
       "        <td>Angus Young, Malcolm Young, Brian Johnson</td>\n",
       "        <td>343719</td>\n",
       "        <td>11170334</td>\n",
       "        <td>0.99</td>\n",
       "    </tr>\n",
       "    <tr>\n",
       "        <td>2</td>\n",
       "        <td>Balls to the Wall</td>\n",
       "        <td>2</td>\n",
       "        <td>2</td>\n",
       "        <td>1</td>\n",
       "        <td>None</td>\n",
       "        <td>342562</td>\n",
       "        <td>5510424</td>\n",
       "        <td>0.99</td>\n",
       "    </tr>\n",
       "    <tr>\n",
       "        <td>3</td>\n",
       "        <td>Fast As a Shark</td>\n",
       "        <td>3</td>\n",
       "        <td>2</td>\n",
       "        <td>1</td>\n",
       "        <td>F. Baltes, S. Kaufman, U. Dirkscneider &amp; W. Hoffman</td>\n",
       "        <td>230619</td>\n",
       "        <td>3990994</td>\n",
       "        <td>0.99</td>\n",
       "    </tr>\n",
       "</table>"
      ],
      "text/plain": [
       "[(1, 'For Those About To Rock (We Salute You)', 1, 1, 1, 'Angus Young, Malcolm Young, Brian Johnson', 343719, 11170334, 0.99),\n",
       " (2, 'Balls to the Wall', 2, 2, 1, None, 342562, 5510424, 0.99),\n",
       " (3, 'Fast As a Shark', 3, 2, 1, 'F. Baltes, S. Kaufman, U. Dirkscneider & W. Hoffman', 230619, 3990994, 0.99)]"
      ]
     },
     "execution_count": 5,
     "metadata": {},
     "output_type": "execute_result"
    }
   ],
   "source": [
    "%%sql \n",
    "SELECT * FROM track LIMIT 3;"
   ]
  },
  {
   "cell_type": "code",
   "execution_count": 6,
   "metadata": {},
   "outputs": [
    {
     "name": "stdout",
     "output_type": "stream",
     "text": [
      " * sqlite:///chinook.db\n",
      "Done.\n"
     ]
    },
    {
     "data": {
      "text/html": [
       "<table>\n",
       "    <tr>\n",
       "        <th>media_type_id</th>\n",
       "        <th>name</th>\n",
       "    </tr>\n",
       "    <tr>\n",
       "        <td>1</td>\n",
       "        <td>MPEG audio file</td>\n",
       "    </tr>\n",
       "    <tr>\n",
       "        <td>2</td>\n",
       "        <td>Protected AAC audio file</td>\n",
       "    </tr>\n",
       "    <tr>\n",
       "        <td>3</td>\n",
       "        <td>Protected MPEG-4 video file</td>\n",
       "    </tr>\n",
       "</table>"
      ],
      "text/plain": [
       "[(1, 'MPEG audio file'),\n",
       " (2, 'Protected AAC audio file'),\n",
       " (3, 'Protected MPEG-4 video file')]"
      ]
     },
     "execution_count": 6,
     "metadata": {},
     "output_type": "execute_result"
    }
   ],
   "source": [
    "%%sql \n",
    "SELECT * FROM media_type LIMIT 3;"
   ]
  },
  {
   "cell_type": "markdown",
   "metadata": {},
   "source": [
    "We will use the `invoice_line` table in our `FROM` clause, since it contains 3 of the 5 columns we want in our final query. Since our task involves looking for information about a specific `invoice_id`, let's choose an `invoice_id` value of `3`. Selecting all lines from invoice_line with an invoice_id is straightforward:"
   ]
  },
  {
   "cell_type": "code",
   "execution_count": 7,
   "metadata": {},
   "outputs": [
    {
     "name": "stdout",
     "output_type": "stream",
     "text": [
      " * sqlite:///chinook.db\n",
      "Done.\n"
     ]
    },
    {
     "data": {
      "text/html": [
       "<table>\n",
       "    <tr>\n",
       "        <th>invoice_line_id</th>\n",
       "        <th>invoice_id</th>\n",
       "        <th>track_id</th>\n",
       "        <th>unit_price</th>\n",
       "        <th>quantity</th>\n",
       "    </tr>\n",
       "    <tr>\n",
       "        <td>27</td>\n",
       "        <td>3</td>\n",
       "        <td>2516</td>\n",
       "        <td>0.99</td>\n",
       "        <td>1</td>\n",
       "    </tr>\n",
       "    <tr>\n",
       "        <td>28</td>\n",
       "        <td>3</td>\n",
       "        <td>2646</td>\n",
       "        <td>0.99</td>\n",
       "        <td>1</td>\n",
       "    </tr>\n",
       "</table>"
      ],
      "text/plain": [
       "[(27, 3, 2516, 0.99, 1), (28, 3, 2646, 0.99, 1)]"
      ]
     },
     "execution_count": 7,
     "metadata": {},
     "output_type": "execute_result"
    }
   ],
   "source": [
    "%%sql\n",
    "SELECT * FROM invoice_line\n",
    "WHERE invoice_id = 3;"
   ]
  },
  {
   "cell_type": "markdown",
   "metadata": {},
   "source": [
    "Now we can use an inner join to add the data from the `track` table."
   ]
  },
  {
   "cell_type": "code",
   "execution_count": 8,
   "metadata": {},
   "outputs": [
    {
     "name": "stdout",
     "output_type": "stream",
     "text": [
      " * sqlite:///chinook.db\n",
      "Done.\n"
     ]
    },
    {
     "data": {
      "text/html": [
       "<table>\n",
       "    <tr>\n",
       "        <th>invoice_line_id</th>\n",
       "        <th>invoice_id</th>\n",
       "        <th>track_id</th>\n",
       "        <th>unit_price</th>\n",
       "        <th>quantity</th>\n",
       "        <th>track_id_1</th>\n",
       "        <th>name</th>\n",
       "        <th>album_id</th>\n",
       "        <th>media_type_id</th>\n",
       "        <th>genre_id</th>\n",
       "        <th>composer</th>\n",
       "        <th>milliseconds</th>\n",
       "        <th>bytes</th>\n",
       "        <th>unit_price_1</th>\n",
       "    </tr>\n",
       "    <tr>\n",
       "        <td>27</td>\n",
       "        <td>3</td>\n",
       "        <td>2516</td>\n",
       "        <td>0.99</td>\n",
       "        <td>1</td>\n",
       "        <td>2516</td>\n",
       "        <td>Black Hole Sun</td>\n",
       "        <td>203</td>\n",
       "        <td>1</td>\n",
       "        <td>1</td>\n",
       "        <td>Soundgarden</td>\n",
       "        <td>320365</td>\n",
       "        <td>10425229</td>\n",
       "        <td>0.99</td>\n",
       "    </tr>\n",
       "    <tr>\n",
       "        <td>28</td>\n",
       "        <td>3</td>\n",
       "        <td>2646</td>\n",
       "        <td>0.99</td>\n",
       "        <td>1</td>\n",
       "        <td>2646</td>\n",
       "        <td>I Looked At You</td>\n",
       "        <td>214</td>\n",
       "        <td>1</td>\n",
       "        <td>1</td>\n",
       "        <td>Robby Krieger, Ray Manzarek, John Densmore, Jim Morrison</td>\n",
       "        <td>142080</td>\n",
       "        <td>4663988</td>\n",
       "        <td>0.99</td>\n",
       "    </tr>\n",
       "</table>"
      ],
      "text/plain": [
       "[(27, 3, 2516, 0.99, 1, 2516, 'Black Hole Sun', 203, 1, 1, 'Soundgarden', 320365, 10425229, 0.99),\n",
       " (28, 3, 2646, 0.99, 1, 2646, 'I Looked At You', 214, 1, 1, 'Robby Krieger, Ray Manzarek, John Densmore, Jim Morrison', 142080, 4663988, 0.99)]"
      ]
     },
     "execution_count": 8,
     "metadata": {},
     "output_type": "execute_result"
    }
   ],
   "source": [
    "%%sql\n",
    "SELECT * FROM invoice_line il\n",
    "INNER JOIN track t ON t.track_id = il.track_id\n",
    "WHERE invoice_id = 3;"
   ]
  },
  {
   "cell_type": "code",
   "execution_count": 9,
   "metadata": {},
   "outputs": [
    {
     "name": "stdout",
     "output_type": "stream",
     "text": [
      " * sqlite:///chinook.db\n",
      "Done.\n"
     ]
    },
    {
     "data": {
      "text/html": [
       "<table>\n",
       "    <tr>\n",
       "        <th>invoice_line_id</th>\n",
       "        <th>invoice_id</th>\n",
       "        <th>track_id</th>\n",
       "        <th>unit_price</th>\n",
       "        <th>quantity</th>\n",
       "        <th>track_id_1</th>\n",
       "        <th>name</th>\n",
       "        <th>album_id</th>\n",
       "        <th>media_type_id</th>\n",
       "        <th>genre_id</th>\n",
       "        <th>composer</th>\n",
       "        <th>milliseconds</th>\n",
       "        <th>bytes</th>\n",
       "        <th>unit_price_1</th>\n",
       "        <th>media_type_id_1</th>\n",
       "        <th>name_1</th>\n",
       "    </tr>\n",
       "    <tr>\n",
       "        <td>27</td>\n",
       "        <td>3</td>\n",
       "        <td>2516</td>\n",
       "        <td>0.99</td>\n",
       "        <td>1</td>\n",
       "        <td>2516</td>\n",
       "        <td>Black Hole Sun</td>\n",
       "        <td>203</td>\n",
       "        <td>1</td>\n",
       "        <td>1</td>\n",
       "        <td>Soundgarden</td>\n",
       "        <td>320365</td>\n",
       "        <td>10425229</td>\n",
       "        <td>0.99</td>\n",
       "        <td>1</td>\n",
       "        <td>MPEG audio file</td>\n",
       "    </tr>\n",
       "    <tr>\n",
       "        <td>28</td>\n",
       "        <td>3</td>\n",
       "        <td>2646</td>\n",
       "        <td>0.99</td>\n",
       "        <td>1</td>\n",
       "        <td>2646</td>\n",
       "        <td>I Looked At You</td>\n",
       "        <td>214</td>\n",
       "        <td>1</td>\n",
       "        <td>1</td>\n",
       "        <td>Robby Krieger, Ray Manzarek, John Densmore, Jim Morrison</td>\n",
       "        <td>142080</td>\n",
       "        <td>4663988</td>\n",
       "        <td>0.99</td>\n",
       "        <td>1</td>\n",
       "        <td>MPEG audio file</td>\n",
       "    </tr>\n",
       "</table>"
      ],
      "text/plain": [
       "[(27, 3, 2516, 0.99, 1, 2516, 'Black Hole Sun', 203, 1, 1, 'Soundgarden', 320365, 10425229, 0.99, 1, 'MPEG audio file'),\n",
       " (28, 3, 2646, 0.99, 1, 2646, 'I Looked At You', 214, 1, 1, 'Robby Krieger, Ray Manzarek, John Densmore, Jim Morrison', 142080, 4663988, 0.99, 1, 'MPEG audio file')]"
      ]
     },
     "execution_count": 9,
     "metadata": {},
     "output_type": "execute_result"
    }
   ],
   "source": [
    "%%sql\n",
    "SELECT * FROM invoice_line il\n",
    "INNER JOIN track t ON t.track_id = il.track_id\n",
    "INNER JOIN media_type mt ON mt.media_type_id = t.media_type_id\n",
    "WHERE invoice_id = 3;"
   ]
  },
  {
   "cell_type": "markdown",
   "metadata": {},
   "source": [
    "The last step is to alter the `SELECT` clause to include only the columns we require - let's do that now with a different order.\n",
    "\n",
    "Question 1 - Write a query that gathers data about the invoice with an `invoice_id` of 4. Include the following columns in order:\n",
    "- The id of the track, `track_id`.\n",
    "- The name of the track, `track_name`.\n",
    "- The name of media type of the track,`track_type`.\n",
    "- The price that the customer paid for the track, `unit_price`.\n",
    "- The quantity of the track that was purchased, `quantity`."
   ]
  },
  {
   "cell_type": "code",
   "execution_count": 11,
   "metadata": {},
   "outputs": [
    {
     "name": "stdout",
     "output_type": "stream",
     "text": [
      " * sqlite:///chinook.db\n",
      "Done.\n"
     ]
    },
    {
     "data": {
      "text/html": [
       "<table>\n",
       "    <tr>\n",
       "        <th>track_id</th>\n",
       "        <th>track_name</th>\n",
       "        <th>track_type</th>\n",
       "        <th>unit_price</th>\n",
       "        <th>quantity</th>\n",
       "    </tr>\n",
       "    <tr>\n",
       "        <td>3448</td>\n",
       "        <td>Lamentations of Jeremiah, First Set \\ Incipit Lamentatio</td>\n",
       "        <td>Protected AAC audio file</td>\n",
       "        <td>0.99</td>\n",
       "        <td>1</td>\n",
       "    </tr>\n",
       "    <tr>\n",
       "        <td>2560</td>\n",
       "        <td>Violent Pornography</td>\n",
       "        <td>MPEG audio file</td>\n",
       "        <td>0.99</td>\n",
       "        <td>1</td>\n",
       "    </tr>\n",
       "    <tr>\n",
       "        <td>3336</td>\n",
       "        <td>War Pigs</td>\n",
       "        <td>Purchased AAC audio file</td>\n",
       "        <td>0.99</td>\n",
       "        <td>1</td>\n",
       "    </tr>\n",
       "    <tr>\n",
       "        <td>829</td>\n",
       "        <td>Let&#x27;s Get Rocked</td>\n",
       "        <td>MPEG audio file</td>\n",
       "        <td>0.99</td>\n",
       "        <td>1</td>\n",
       "    </tr>\n",
       "    <tr>\n",
       "        <td>1872</td>\n",
       "        <td>Attitude</td>\n",
       "        <td>MPEG audio file</td>\n",
       "        <td>0.99</td>\n",
       "        <td>1</td>\n",
       "    </tr>\n",
       "    <tr>\n",
       "        <td>748</td>\n",
       "        <td>Dealer</td>\n",
       "        <td>MPEG audio file</td>\n",
       "        <td>0.99</td>\n",
       "        <td>1</td>\n",
       "    </tr>\n",
       "    <tr>\n",
       "        <td>1778</td>\n",
       "        <td>You&#x27;re What&#x27;s Happening (In The World Today)</td>\n",
       "        <td>MPEG audio file</td>\n",
       "        <td>0.99</td>\n",
       "        <td>1</td>\n",
       "    </tr>\n",
       "    <tr>\n",
       "        <td>2514</td>\n",
       "        <td>Spoonman</td>\n",
       "        <td>MPEG audio file</td>\n",
       "        <td>0.99</td>\n",
       "        <td>1</td>\n",
       "    </tr>\n",
       "</table>"
      ],
      "text/plain": [
       "[(3448, 'Lamentations of Jeremiah, First Set \\\\ Incipit Lamentatio', 'Protected AAC audio file', 0.99, 1),\n",
       " (2560, 'Violent Pornography', 'MPEG audio file', 0.99, 1),\n",
       " (3336, 'War Pigs', 'Purchased AAC audio file', 0.99, 1),\n",
       " (829, \"Let's Get Rocked\", 'MPEG audio file', 0.99, 1),\n",
       " (1872, 'Attitude', 'MPEG audio file', 0.99, 1),\n",
       " (748, 'Dealer', 'MPEG audio file', 0.99, 1),\n",
       " (1778, \"You're What's Happening (In The World Today)\", 'MPEG audio file', 0.99, 1),\n",
       " (2514, 'Spoonman', 'MPEG audio file', 0.99, 1)]"
      ]
     },
     "execution_count": 11,
     "metadata": {},
     "output_type": "execute_result"
    }
   ],
   "source": [
    "%%sql\n",
    "SELECT il.track_id,\n",
    "        t.name track_name,\n",
    "        mt.name track_type,\n",
    "        il.unit_price,\n",
    "        il.quantity\n",
    "FROM invoice_line il\n",
    "INNER JOIN track t ON t.track_id = il.track_id\n",
    "INNER JOIN media_type mt ON mt.media_type_id = t.media_type_id\n",
    "WHERE invoice_id = 4;"
   ]
  },
  {
   "cell_type": "markdown",
   "metadata": {},
   "source": [
    "## Joining More Than Three Tables\n",
    "\n",
    "Let's extend the query we wrote by adding the artist for each track. If you examine the schema, you'll notice that the data for the artist's name is not directly connected to the track table.\n",
    "\n",
    "In this case, we will need to join two new tables to our existing query:\n",
    "\n",
    "- `artist`, which contains the artist name data that we need\n",
    "- `album`, which has a column common to each of the `artist` and `track` tables which allows us to join those two tables.\n",
    "\n",
    "Our select clause won't actually use any of the columns from the `album` table. This is quite common when writing more complex queries because it will let you join to another table.\n",
    "\n",
    "Question 2 - Add a column containing the artists name to the query from the previous question.\n",
    "- The column should be called `artist_name`\n",
    "- The column should be placed between `track_name` and `track_type`"
   ]
  },
  {
   "cell_type": "code",
   "execution_count": 14,
   "metadata": {},
   "outputs": [
    {
     "name": "stdout",
     "output_type": "stream",
     "text": [
      " * sqlite:///chinook.db\n",
      "Done.\n"
     ]
    },
    {
     "data": {
      "text/html": [
       "<table>\n",
       "    <tr>\n",
       "        <th>track_id</th>\n",
       "        <th>track_name</th>\n",
       "        <th>artist_name</th>\n",
       "        <th>track_type</th>\n",
       "        <th>unit_price</th>\n",
       "        <th>quantity</th>\n",
       "    </tr>\n",
       "    <tr>\n",
       "        <td>3448</td>\n",
       "        <td>Lamentations of Jeremiah, First Set \\ Incipit Lamentatio</td>\n",
       "        <td>The King&#x27;s Singers</td>\n",
       "        <td>Protected AAC audio file</td>\n",
       "        <td>0.99</td>\n",
       "        <td>1</td>\n",
       "    </tr>\n",
       "    <tr>\n",
       "        <td>2560</td>\n",
       "        <td>Violent Pornography</td>\n",
       "        <td>System Of A Down</td>\n",
       "        <td>MPEG audio file</td>\n",
       "        <td>0.99</td>\n",
       "        <td>1</td>\n",
       "    </tr>\n",
       "    <tr>\n",
       "        <td>3336</td>\n",
       "        <td>War Pigs</td>\n",
       "        <td>Cake</td>\n",
       "        <td>Purchased AAC audio file</td>\n",
       "        <td>0.99</td>\n",
       "        <td>1</td>\n",
       "    </tr>\n",
       "    <tr>\n",
       "        <td>829</td>\n",
       "        <td>Let&#x27;s Get Rocked</td>\n",
       "        <td>Def Leppard</td>\n",
       "        <td>MPEG audio file</td>\n",
       "        <td>0.99</td>\n",
       "        <td>1</td>\n",
       "    </tr>\n",
       "    <tr>\n",
       "        <td>1872</td>\n",
       "        <td>Attitude</td>\n",
       "        <td>Metallica</td>\n",
       "        <td>MPEG audio file</td>\n",
       "        <td>0.99</td>\n",
       "        <td>1</td>\n",
       "    </tr>\n",
       "    <tr>\n",
       "        <td>748</td>\n",
       "        <td>Dealer</td>\n",
       "        <td>Deep Purple</td>\n",
       "        <td>MPEG audio file</td>\n",
       "        <td>0.99</td>\n",
       "        <td>1</td>\n",
       "    </tr>\n",
       "    <tr>\n",
       "        <td>1778</td>\n",
       "        <td>You&#x27;re What&#x27;s Happening (In The World Today)</td>\n",
       "        <td>Marvin Gaye</td>\n",
       "        <td>MPEG audio file</td>\n",
       "        <td>0.99</td>\n",
       "        <td>1</td>\n",
       "    </tr>\n",
       "    <tr>\n",
       "        <td>2514</td>\n",
       "        <td>Spoonman</td>\n",
       "        <td>Soundgarden</td>\n",
       "        <td>MPEG audio file</td>\n",
       "        <td>0.99</td>\n",
       "        <td>1</td>\n",
       "    </tr>\n",
       "</table>"
      ],
      "text/plain": [
       "[(3448, 'Lamentations of Jeremiah, First Set \\\\ Incipit Lamentatio', \"The King's Singers\", 'Protected AAC audio file', 0.99, 1),\n",
       " (2560, 'Violent Pornography', 'System Of A Down', 'MPEG audio file', 0.99, 1),\n",
       " (3336, 'War Pigs', 'Cake', 'Purchased AAC audio file', 0.99, 1),\n",
       " (829, \"Let's Get Rocked\", 'Def Leppard', 'MPEG audio file', 0.99, 1),\n",
       " (1872, 'Attitude', 'Metallica', 'MPEG audio file', 0.99, 1),\n",
       " (748, 'Dealer', 'Deep Purple', 'MPEG audio file', 0.99, 1),\n",
       " (1778, \"You're What's Happening (In The World Today)\", 'Marvin Gaye', 'MPEG audio file', 0.99, 1),\n",
       " (2514, 'Spoonman', 'Soundgarden', 'MPEG audio file', 0.99, 1)]"
      ]
     },
     "execution_count": 14,
     "metadata": {},
     "output_type": "execute_result"
    }
   ],
   "source": [
    "%%sql\n",
    "SELECT il.track_id,\n",
    "        t.name track_name,\n",
    "        ar.name artist_name,\n",
    "        mt.name track_type,\n",
    "        il.unit_price,\n",
    "        il.quantity\n",
    "FROM invoice_line il\n",
    "\n",
    "INNER JOIN track t ON t.track_id = il.track_id\n",
    "INNER JOIN media_type mt ON mt.media_type_id = t.media_type_id\n",
    "INNER JOIN album al ON al.album_id = t.album_id\n",
    "INNER JOIN artist ar ON ar.artist_id = al.artist_id\n",
    "\n",
    "WHERE invoice_id = 4;"
   ]
  },
  {
   "cell_type": "markdown",
   "metadata": {},
   "source": [
    "## Combining Multiple Joins with Subqueries\n",
    "\n",
    "Because the `invoice_line` table contains each individual song from each customer purchase, it contains information about which songs are purchased the most. We can use the table to find out `which artists are purchased the most`. Specifically, what we want to produce is a query that lists the `top 10 artists`, calculated by the number of times a track by that artist has been purchased.\n",
    "\n",
    "We'll need to use a `GROUP BY` clause to get the number of `tracks` purchased from each artist, but before we do, we'll have to join a few tables.\n",
    "\n",
    "Writing our query would be a lot easier if we had one table that contained both the `track.track_id` and the `artist.name` columns. We can write a subquery that creates this table for us, and then use that subquery to calculate our answer. This means our process will be:\n",
    "\n",
    "- Write a subquery that produces a table with `track.track_id` and `artist.name`,\n",
    "- Join that subquery to the `invoice_line` table,\n",
    "- Use a `GROUP BY` statement to calculate the number of times each artist has had a track purchased, and find the top 10.\n",
    "\n",
    "We can write our subquery by joining `album` to `track` and then `artist` to `album`. We'll add an `ORDER BY` and `LIMIT` to our query so we're only looking at manageable sample of the data, but we'll remove it when we move to the next step."
   ]
  },
  {
   "cell_type": "code",
   "execution_count": 15,
   "metadata": {},
   "outputs": [
    {
     "name": "stdout",
     "output_type": "stream",
     "text": [
      " * sqlite:///chinook.db\n",
      "Done.\n"
     ]
    },
    {
     "data": {
      "text/html": [
       "<table>\n",
       "    <tr>\n",
       "        <th>track_id</th>\n",
       "        <th>artist_name</th>\n",
       "    </tr>\n",
       "    <tr>\n",
       "        <td>1</td>\n",
       "        <td>AC/DC</td>\n",
       "    </tr>\n",
       "    <tr>\n",
       "        <td>2</td>\n",
       "        <td>Accept</td>\n",
       "    </tr>\n",
       "    <tr>\n",
       "        <td>3</td>\n",
       "        <td>Accept</td>\n",
       "    </tr>\n",
       "    <tr>\n",
       "        <td>4</td>\n",
       "        <td>Accept</td>\n",
       "    </tr>\n",
       "    <tr>\n",
       "        <td>5</td>\n",
       "        <td>Accept</td>\n",
       "    </tr>\n",
       "</table>"
      ],
      "text/plain": [
       "[(1, 'AC/DC'), (2, 'Accept'), (3, 'Accept'), (4, 'Accept'), (5, 'Accept')]"
      ]
     },
     "execution_count": 15,
     "metadata": {},
     "output_type": "execute_result"
    }
   ],
   "source": [
    "%%sql\n",
    "SELECT\n",
    "    t.track_id,\n",
    "    ar.name artist_name\n",
    "FROM track t\n",
    "INNER JOIN album al ON al.album_id = t.album_id\n",
    "INNER JOIN artist ar ON ar.artist_id = al.artist_id\n",
    "ORDER BY 1 LIMIT 5;"
   ]
  },
  {
   "cell_type": "markdown",
   "metadata": {},
   "source": [
    "Next, we need to join this subquery to our `invoice_line` table. We'll give our subquery an alias `ta` for 'track artist' to make it easier to refer to. Again, we'll add an `ORDER BY` and `LIMIT` statement to this step so our output is more manageable."
   ]
  },
  {
   "cell_type": "code",
   "execution_count": 17,
   "metadata": {},
   "outputs": [
    {
     "name": "stdout",
     "output_type": "stream",
     "text": [
      " * sqlite:///chinook.db\n",
      "Done.\n"
     ]
    },
    {
     "data": {
      "text/html": [
       "<table>\n",
       "    <tr>\n",
       "        <th>invoice_line_id</th>\n",
       "        <th>track_id</th>\n",
       "        <th>artist_name</th>\n",
       "    </tr>\n",
       "    <tr>\n",
       "        <td>1</td>\n",
       "        <td>1158</td>\n",
       "        <td>Guns N&#x27; Roses</td>\n",
       "    </tr>\n",
       "    <tr>\n",
       "        <td>2</td>\n",
       "        <td>1159</td>\n",
       "        <td>Guns N&#x27; Roses</td>\n",
       "    </tr>\n",
       "    <tr>\n",
       "        <td>3</td>\n",
       "        <td>1160</td>\n",
       "        <td>Guns N&#x27; Roses</td>\n",
       "    </tr>\n",
       "    <tr>\n",
       "        <td>4</td>\n",
       "        <td>1161</td>\n",
       "        <td>Guns N&#x27; Roses</td>\n",
       "    </tr>\n",
       "    <tr>\n",
       "        <td>5</td>\n",
       "        <td>1162</td>\n",
       "        <td>Guns N&#x27; Roses</td>\n",
       "    </tr>\n",
       "</table>"
      ],
      "text/plain": [
       "[(1, 1158, \"Guns N' Roses\"),\n",
       " (2, 1159, \"Guns N' Roses\"),\n",
       " (3, 1160, \"Guns N' Roses\"),\n",
       " (4, 1161, \"Guns N' Roses\"),\n",
       " (5, 1162, \"Guns N' Roses\")]"
      ]
     },
     "execution_count": 17,
     "metadata": {},
     "output_type": "execute_result"
    }
   ],
   "source": [
    "%%sql\n",
    "SELECT\n",
    "    il.invoice_line_id,\n",
    "    il.track_id,\n",
    "    ta.artist_name\n",
    "FROM invoice_line il\n",
    "INNER JOIN (\n",
    "            SELECT\n",
    "                t.track_id,\n",
    "                ar.name artist_name\n",
    "            FROM track t\n",
    "            INNER JOIN album al ON al.album_id = t.album_id\n",
    "            INNER JOIN artist ar ON ar.artist_id = al.artist_id\n",
    "           ) ta\n",
    "           ON ta.track_id = il.track_id\n",
    "ORDER BY 1 LIMIT 5;"
   ]
  },
  {
   "cell_type": "markdown",
   "metadata": {},
   "source": [
    "At first it might look like we've done something wrong, because the artist for all rows is Guns N' Roses, but that's because the very first order in our table is a customer who purchased an entire Guns N' Roses album! All that remains now is for us to add our `GROUP BY` clause, remove the extra columns and use `ORDER BY` and `LIMIT` clauses to select the 10 most popular artists."
   ]
  },
  {
   "cell_type": "code",
   "execution_count": 18,
   "metadata": {},
   "outputs": [
    {
     "name": "stdout",
     "output_type": "stream",
     "text": [
      " * sqlite:///chinook.db\n",
      "Done.\n"
     ]
    },
    {
     "data": {
      "text/html": [
       "<table>\n",
       "    <tr>\n",
       "        <th>artist</th>\n",
       "        <th>tracks_purchased</th>\n",
       "    </tr>\n",
       "    <tr>\n",
       "        <td>Queen</td>\n",
       "        <td>192</td>\n",
       "    </tr>\n",
       "    <tr>\n",
       "        <td>Jimi Hendrix</td>\n",
       "        <td>187</td>\n",
       "    </tr>\n",
       "    <tr>\n",
       "        <td>Red Hot Chili Peppers</td>\n",
       "        <td>130</td>\n",
       "    </tr>\n",
       "    <tr>\n",
       "        <td>Nirvana</td>\n",
       "        <td>130</td>\n",
       "    </tr>\n",
       "    <tr>\n",
       "        <td>Pearl Jam</td>\n",
       "        <td>129</td>\n",
       "    </tr>\n",
       "    <tr>\n",
       "        <td>Guns N&#x27; Roses</td>\n",
       "        <td>124</td>\n",
       "    </tr>\n",
       "    <tr>\n",
       "        <td>AC/DC</td>\n",
       "        <td>124</td>\n",
       "    </tr>\n",
       "    <tr>\n",
       "        <td>Foo Fighters</td>\n",
       "        <td>121</td>\n",
       "    </tr>\n",
       "    <tr>\n",
       "        <td>The Rolling Stones</td>\n",
       "        <td>117</td>\n",
       "    </tr>\n",
       "    <tr>\n",
       "        <td>Metallica</td>\n",
       "        <td>106</td>\n",
       "    </tr>\n",
       "</table>"
      ],
      "text/plain": [
       "[('Queen', 192),\n",
       " ('Jimi Hendrix', 187),\n",
       " ('Red Hot Chili Peppers', 130),\n",
       " ('Nirvana', 130),\n",
       " ('Pearl Jam', 129),\n",
       " (\"Guns N' Roses\", 124),\n",
       " ('AC/DC', 124),\n",
       " ('Foo Fighters', 121),\n",
       " ('The Rolling Stones', 117),\n",
       " ('Metallica', 106)]"
      ]
     },
     "execution_count": 18,
     "metadata": {},
     "output_type": "execute_result"
    }
   ],
   "source": [
    "%%sql\n",
    "SELECT\n",
    "    ta.artist_name artist,\n",
    "    COUNT(*) tracks_purchased\n",
    "FROM invoice_line il\n",
    "INNER JOIN (\n",
    "            SELECT\n",
    "                t.track_id,\n",
    "                ar.name artist_name\n",
    "            FROM track t\n",
    "            INNER JOIN album al ON al.album_id = t.album_id\n",
    "            INNER JOIN artist ar ON ar.artist_id = al.artist_id\n",
    "           ) ta\n",
    "           ON ta.track_id = il.track_id\n",
    "GROUP BY 1\n",
    "ORDER BY 2 DESC LIMIT 10;"
   ]
  },
  {
   "cell_type": "markdown",
   "metadata": {},
   "source": [
    "Question 3 - Write a query that returns the top 5 albums, as calculated by the number of times a track from that album has been purchased. Your query should be sorted from most tracks purchased to least tracks purchased and return the following columns, in order:\n",
    "- `album`, the title of the album\n",
    "- `artist`, the artist who produced the album\n",
    "- `tracks_purchased` the total number of tracks purchased from that album"
   ]
  },
  {
   "cell_type": "code",
   "execution_count": 19,
   "metadata": {},
   "outputs": [
    {
     "name": "stdout",
     "output_type": "stream",
     "text": [
      " * sqlite:///chinook.db\n",
      "Done.\n"
     ]
    },
    {
     "data": {
      "text/html": [
       "<table>\n",
       "    <tr>\n",
       "        <th>artist</th>\n",
       "        <th>tracks_purchased</th>\n",
       "    </tr>\n",
       "    <tr>\n",
       "        <td>Queen</td>\n",
       "        <td>192</td>\n",
       "    </tr>\n",
       "    <tr>\n",
       "        <td>Jimi Hendrix</td>\n",
       "        <td>187</td>\n",
       "    </tr>\n",
       "    <tr>\n",
       "        <td>Red Hot Chili Peppers</td>\n",
       "        <td>130</td>\n",
       "    </tr>\n",
       "    <tr>\n",
       "        <td>Nirvana</td>\n",
       "        <td>130</td>\n",
       "    </tr>\n",
       "    <tr>\n",
       "        <td>Pearl Jam</td>\n",
       "        <td>129</td>\n",
       "    </tr>\n",
       "</table>"
      ],
      "text/plain": [
       "[('Queen', 192),\n",
       " ('Jimi Hendrix', 187),\n",
       " ('Red Hot Chili Peppers', 130),\n",
       " ('Nirvana', 130),\n",
       " ('Pearl Jam', 129)]"
      ]
     },
     "execution_count": 19,
     "metadata": {},
     "output_type": "execute_result"
    }
   ],
   "source": [
    "%%sql\n",
    "SELECT\n",
    "    ta.artist_name artist,\n",
    "    COUNT(*) tracks_purchased\n",
    "FROM invoice_line il\n",
    "INNER JOIN (\n",
    "            SELECT\n",
    "                t.track_id,\n",
    "                ar.name artist_name\n",
    "            FROM track t\n",
    "            INNER JOIN album al ON al.album_id = t.album_id\n",
    "            INNER JOIN artist ar ON ar.artist_id = al.artist_id\n",
    "           ) ta\n",
    "           ON ta.track_id = il.track_id\n",
    "GROUP BY 1\n",
    "ORDER BY 2 DESC LIMIT 5;"
   ]
  },
  {
   "cell_type": "code",
   "execution_count": null,
   "metadata": {},
   "outputs": [],
   "source": []
  }
 ],
 "metadata": {
  "kernelspec": {
   "display_name": "Python 3",
   "language": "python",
   "name": "python3"
  },
  "language_info": {
   "codemirror_mode": {
    "name": "ipython",
    "version": 3
   },
   "file_extension": ".py",
   "mimetype": "text/x-python",
   "name": "python",
   "nbconvert_exporter": "python",
   "pygments_lexer": "ipython3",
   "version": "3.8.3"
  }
 },
 "nbformat": 4,
 "nbformat_minor": 4
}
