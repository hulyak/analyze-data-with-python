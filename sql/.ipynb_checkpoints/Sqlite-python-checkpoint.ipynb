{
 "cells": [
  {
   "cell_type": "markdown",
   "metadata": {},
   "source": [
    "# Querying SQLite from Python\n",
    "\n",
    "SQLite is a database that doesn't require a standalone server; it stores the entire database as a file on disk. This makes it ideal for working with larger datasets that can fit on disk but not in memory.\n",
    "\n",
    "Python loads the entire data set we're working with into memory, making SQLite a compelling alternative for working with data sets larger than 8 gigabytes (which is roughly the amount of memory modern computers contain). The fact that we can contain an entire database in a single file makes them easy to share; some data sets are available online as SQLite database files (using the extension `.db`).\n",
    "\n",
    "We can interact with a SQLite database in two main ways:\n",
    "\n",
    "- Through the [sqlite3 Python module](https://docs.python.org/3/library/sqlite3.html)\n",
    "- Through the [SQLite shell](https://sqlite.org/cli.html)\n",
    "\n",
    "In this mission, we'll learn how to use the sqlite3 module to interact with the database.\n",
    "\n",
    "The full table has many more columns than the ones we've displayed above (21 to be specific). You can learn about all of them in [FiveThirtyEight's GitHub repository](https://github.com/fivethirtyeight/data/tree/master/college-majors).\n",
    "\n",
    "Here are the descriptions for the columns in the preview:\n",
    "\n",
    "- `Rank`: The major's rank by median earnings\n",
    "- `Major_code`: The major's code or ID\n",
    "- `Major`: The name of the major\n",
    "- `Major_category`: The broader category the major belongs to\n",
    "- `Total`: The total number of people who studied the major\n",
    "- `Sample_size`: The sample size (unweighted) of graduates with full time jobs\n",
    "- `Men`: The number of male graduates\n",
    "- `Women`: The number of female graduates\n",
    "- `ShareWomen`: Women as a proportion of the total number of graduates (a number ranging from `0` to `1`)\n",
    "- `Employed`: The number of employed graduates\n",
    "\n",
    "We've loaded a subset of the data into a table named `recent_grads` in a database. The subset contains the 2010-2012 data for recent college grads only. The database file we'll be working with is called `jobs.db`.\n",
    "\n",
    "## Commecting to the Database\n",
    "\n",
    "Python 2.5 and up come with the sqlite module, which means we don't need to install any separate libraries to get started. Specifically, we'll work with the sqlite3 Python module, which was developed to work with [SQLite version 3](https://www.sqlite.org/version3.html).\n",
    "\n",
    "We can import it into our environment using this command:\n",
    "\n",
    "    `import sqlite3`\n",
    "\n",
    "Once we import the module, we connect to the database we want to query using the `[connect]`(https://docs.python.org/3/library/sqlite3.html#sqlite3.connect)function. This function requires a single parameter, which is the database we want to connect to. Because the database we're working with exists as a file on disk, we need to pass in the file name.\n",
    "\n",
    "The `connect()` function returns a [Connection instance](https://docs.python.org/3/library/sqlite3.html#sqlite3.Connection), which maintains the connection to the database we want to work with. When we're connected to a database, SQLite locks the database file and prevents any other processes from connecting to the database simultaneously. The SQLite team made this design decision to keep the database lightweight, and avoid the complexity that arises when multiple processes interact with the same database."
   ]
  },
  {
   "cell_type": "code",
   "execution_count": 1,
   "metadata": {},
   "outputs": [],
   "source": [
    "import sqlite3\n",
    "conn = sqlite3.connect(\"jobs.db\")"
   ]
  },
  {
   "cell_type": "markdown",
   "metadata": {},
   "source": [
    "## Cursor objects and Tuples\n",
    "\n",
    "Before we can execute a query, we need to express our SQL query as a *string*. While we use the Connection class to represent the database we're working with, we use the [Cursor class](https://docs.python.org/3/library/sqlite3.html#cursor-objects) to:\n",
    "\n",
    "- Run a query against the database\n",
    "- Parse the results from the database\n",
    "- Convert the results to native Python objects\n",
    "- Store the results within the Cursor instance as a local variable\n",
    "\n",
    "After running a query and converting the results to a list of tuples, the Cursor instance stores the list as a local variable. Before diving into the syntax of querying the database, let's revise some of what we previously learned about *tuples*.\n",
    "\n",
    "A *[tuple](https://docs.python.org/3/tutorial/datastructures.html#tuples-and-sequences)* is a core data structure that Python uses to represent a sequence of values, similar to a *list*. Unlike *lists*, *tuples* are **immutable**, which means we can't modify existing ones. Python represents each row in the results set as a *tuple*.\n",
    "\n",
    "To create an empty *tuple*, assign a pair of empty parentheses to a variable:\n",
    "\n",
    "`t = ()`\n",
    "\n",
    "Python indexes *Tuples* from `0` to `n-1`, just like it does with *lists*. We access the values in a tuple using bracket notation.\n",
    "\n",
    "`t = ('Apple', 'Banana')\n",
    "apple = t[0] \n",
    "banana = t[1]`\n",
    "\n",
    "*Tuples* are faster than *lists*, so they're helpful with larger databases and larger results sets.\n",
    "\n",
    "Next, let's dive into how to use the Cursor instance to query the database.\n",
    "\n",
    "## Creating a Cursor and Running a Query\n",
    "\n",
    "We need to use the Connection instance method `[cursor()](https://docs.python.org/3/library/sqlite3.html#sqlite3.Connection.cursor)` to return a Cursor instance corresponding to the database we want to query.\n",
    "\n",
    "`cursor = conn.cursor()`\n",
    "\n",
    "In the following code block, we:\n",
    "\n",
    "- Write a basic `select` query that will return all of the values from the `recent_grads` table, and store this query as a string named `query`.\n",
    "- Use the Cursor method `execute()` to run the query against our database.\n",
    "- Return the full results set and store it as `results`.\n",
    "- Print the first three tuples in the list `results`.\n",
    "\n",
    "SQL Query as a string\n",
    "\n",
    "`query = \"select * from recent_grads;\"`\n",
    "\n",
    " Execute the query, convert the results to tuples, and store as a local variable\n",
    " \n",
    " `cursor.execute(query`)\n",
    " \n",
    " Fetch the full results set as a list of tuples\n",
    " \n",
    " `results = cursor.fetchall()`\n",
    " \n",
    " Display the first three results\n",
    " \n",
    " `print(results[0:3])`\n",
    "\n"
   ]
  },
  {
   "cell_type": "code",
   "execution_count": 2,
   "metadata": {},
   "outputs": [
    {
     "name": "stdout",
     "output_type": "stream",
     "text": [
      "[(0, 1, 2419, 'PETROLEUM ENGINEERING', 'Engineering', 2339, 36, 2057, 282, 0.120564344, 1976, 1849, 270, 1207, 37, 0.018380527, 110000, 95000, 125000, 1534, 364, 193), (1, 2, 2416, 'MINING AND MINERAL ENGINEERING', 'Engineering', 756, 7, 679, 77, 0.10185185199999999, 640, 556, 170, 388, 85, 0.117241379, 75000, 55000, 90000, 350, 257, 50)]\n"
     ]
    }
   ],
   "source": [
    "import sqlite3\n",
    "conn = sqlite3.connect(\"jobs.db\")\n",
    "cursor = conn.cursor()\n",
    "\n",
    "query = \"select * from recent_grads;\"\n",
    "cursor.execute(query)\n",
    "results = cursor.fetchall()\n",
    "print(results[0:2])"
   ]
  },
  {
   "cell_type": "code",
   "execution_count": 3,
   "metadata": {},
   "outputs": [
    {
     "name": "stdout",
     "output_type": "stream",
     "text": [
      "[('PETROLEUM ENGINEERING',), ('MINING AND MINERAL ENGINEERING',)]\n"
     ]
    }
   ],
   "source": [
    "import sqlite3\n",
    "conn = sqlite3.connect(\"jobs.db\")\n",
    "cursor = conn.cursor()\n",
    "\n",
    "query = \"select Major from recent_grads;\"\n",
    "cursor.execute(query)\n",
    "majors = cursor.fetchall()\n",
    "print(majors[0:2])"
   ]
  },
  {
   "cell_type": "markdown",
   "metadata": {},
   "source": [
    "## Execute as a Shortcut for Running a Query\n",
    "\n",
    "So far, we've run queries by creating a Cursor instance, and then calling the `execute` method on the instance. The SQLite library actually allows us to skip creating a Cursor altogether by using the `[execute` method](https://docs.python.org/3/library/sqlite3.html#sqlite3.Connection.execute) within the Connection object itself. SQLite will create a Cursor instance for us under the hood and run our query against the database, allowing us to skip a step. Here's what the code looks like:\n",
    "\n",
    "```\n",
    "conn = sqlite3.connect(\"jobs.db\")\n",
    "query = \"select * from recent_grads;\"\n",
    "conn.execute(query).fetchall()\n",
    "```\n",
    "\n",
    "Notice that we didn't explicitly create a separate Cursor instance ourselves in this code example.\n",
    "\n",
    "Now let's learn how to fetch a specific number of results after we run a query.\n",
    "\n",
    "## Fetching a Specific Number of Results\n",
    "\n",
    "To make it easier to work with large results sets, the Cursor class allows us to control the number of results we want to retrieve at any given time. To return a single result (as a *tuple*), we use the [Cursor method `fetchone()`](https://docs.python.org/3/library/sqlite3.html#sqlite3.Cursor.fetchone). To return `n` results, we use the [Cursor method `fetchmany()`](https://docs.python.org/3/library/sqlite3.html#sqlite3.Cursor.fetchmany).\n",
    "\n",
    "Each Cursor instance contains an internal counter that updates every time we retrieve results. When we call the `fetchone()` method, the Cursor instance will return a single result, and then increment its internal counter by 1. This means that if we call `fetchone()` again, the Cursor instance will actually return the second tuple in the results set (and increment by 1 again).\n",
    "\n",
    "The `fetchmany()` method takes in an integer (`n`) and returns the corresponding results, starting from the current position. It then increments the Cursor instance's counter by `n`. In the following code, we return the first two results using the `fetchone()` method, then the next five results using the `fetchmany()` method.\n",
    "\n",
    "```\n",
    "first_result = cursor.fetchone()\n",
    "second_result = cursor.fetchone()\n",
    "next_five_results = cursor.fetchmany(5)\n",
    "```\n",
    "\n",
    "Recall that when you call `fetchmany()` and `fetchone()`, the internal counter updates itself, based on the number of results you fetch each time"
   ]
  },
  {
   "cell_type": "code",
   "execution_count": 8,
   "metadata": {},
   "outputs": [],
   "source": [
    "import sqlite3\n",
    "conn = sqlite3.connect(\"jobs.db\")\n",
    "cursor = conn.cursor()\n",
    "query = \"select Major,Major_category from recent_grads;\"\n",
    "cursor.execute(query)\n",
    "five_results = cursor.fetchmany(5)\n",
    "conn.close()"
   ]
  },
  {
   "cell_type": "markdown",
   "metadata": {},
   "source": [
    "## Closing the Database Connection\n",
    "\n",
    "Because SQLite restricts access to the database file when we're connected to a database, we need to close the connection when we're done working with it. Closing the connection allows other processes to access the database, which is important when you're in a production environment and working with other team members.\n",
    "\n",
    "To close a connection to a database, use the Connection instance method `[close()](https://docs.python.org/3/library/sqlite3.html#sqlite3.Connection.close)`. When we're working with multiple databases and multiple Connection instances, we want to make sure we call the `close()` method on the correct instance. After closing the connection, attempting to query the database using any linked Cursor instances will return the following error:\n",
    "\n",
    "ProgrammingError: Cannot operate on a closed database."
   ]
  },
  {
   "cell_type": "code",
   "execution_count": 12,
   "metadata": {},
   "outputs": [],
   "source": [
    "import sqlite3\n",
    "conn = sqlite3.connect(\"jobs.db\")\n",
    "cursor = conn.cursor()\n",
    "query = \"select Major from recent_grads order by Major desc;\"\n",
    "cursor.execute(query)\n",
    "reverse_alphabetical = cursor.fetchall()\n",
    "conn.close()"
   ]
  },
  {
   "cell_type": "code",
   "execution_count": 13,
   "metadata": {},
   "outputs": [],
   "source": [
    "conn = sqlite3.connect(\"jobs.db\")\n",
    "query = \"select Major from recent_grads order by Major desc;\"\n",
    "reverse_alphabetical = conn.cursor().execute(query).fetchall()\n",
    "conn.close()"
   ]
  },
  {
   "cell_type": "code",
   "execution_count": null,
   "metadata": {},
   "outputs": [],
   "source": []
  }
 ],
 "metadata": {
  "kernelspec": {
   "display_name": "Python 3",
   "language": "python",
   "name": "python3"
  },
  "language_info": {
   "codemirror_mode": {
    "name": "ipython",
    "version": 3
   },
   "file_extension": ".py",
   "mimetype": "text/x-python",
   "name": "python",
   "nbconvert_exporter": "python",
   "pygments_lexer": "ipython3",
   "version": "3.8.3"
  }
 },
 "nbformat": 4,
 "nbformat_minor": 4
}
