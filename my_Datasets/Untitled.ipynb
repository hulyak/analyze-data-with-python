{
 "cells": [
  {
   "cell_type": "markdown",
   "metadata": {},
   "source": [
    "# The Museum of Modern Art (MoMA) \n",
    "We going to work with data about the art in the Museum of Modern Art (MoMA). MoMA, a museum in New York City, has one of the largest collections of modern art in the world.\n",
    "\n",
    "MoMA publishes several data sets in their GitHub repository. We'll work with a version of their artwork data set that has been prepared for this mission. We have prepared the data for teaching purposes and sampled the size of the data set down from over 135,000 rows to a more manageable 17,000 rows.\n",
    "\n",
    "MoMA doesn't provide a data dictionary for the data, but we have provided an explanation of each column for you:\n",
    "\n",
    "- Title: The title of the artwork.\n",
    "- Artist: The name of the artist who created the artwork.\n",
    "- Nationality: The nationality of the artist.\n",
    "- BeginDate: The year in which the artist was born.\n",
    "- EndDate: The year in which the artist died.\n",
    "- Gender: The gender of the artist.\n",
    "- Date: The date that the artwork was created.\n",
    "- Department: The department inside MoMA to which the artwork belongs."
   ]
  },
  {
   "cell_type": "code",
   "execution_count": 1,
   "metadata": {},
   "outputs": [],
   "source": [
    "# import the reader function from the csv module\n",
    "from csv import reader\n",
    "\n",
    "# use the python built-in function open()\n",
    "# to open the children.csv file\n",
    "opened_file = open('artworks.csv')\n",
    "\n",
    "# use csv.reader() to parse the data from\n",
    "# the opened file\n",
    "read_file = reader(opened_file)\n",
    "\n",
    "# use list() to convert the read file\n",
    "# into a list of lists format\n",
    "moma = list(read_file)\n",
    "\n",
    "# remove the first row of the data, which\n",
    "# contains the column names"
   ]
  },
  {
   "cell_type": "code",
   "execution_count": 2,
   "metadata": {},
   "outputs": [
    {
     "name": "stdout",
     "output_type": "stream",
     "text": [
      "American\n",
      "Russian\n",
      "American\n",
      "\n",
      "\n",
      "Male\n",
      "Female\n",
      "Male\n"
     ]
    }
   ],
   "source": [
    "# removing the parentheses from both the Nationality and Gender columns\n",
    "for row in moma:\n",
    "    nationality = row[2]\n",
    "    nationality = nationality.replace(\"(\", \"\")\n",
    "    nationality = nationality.replace(\")\", \"\")\n",
    "    row[2] = nationality\n",
    "  \n",
    "    gender = row[5]\n",
    "    gender = gender.replace(\"(\", \"\")\n",
    "    gender = gender.replace(\")\", \"\")\n",
    "    row[5] = gender\n",
    "    \n",
    "print(moma[300][2])\n",
    "print(moma[400][2])\n",
    "print(moma[500][2])\n",
    "print(\"\\n\")\n",
    "print(moma[300][5])\n",
    "print(moma[330][5])\n",
    "print(moma[500][5])    "
   ]
  },
  {
   "cell_type": "markdown",
   "metadata": {},
   "source": [
    "The str.title () method returns a copy of the string with the first letter of each word transformed to uppercase (also known as title case).\n"
   ]
  },
  {
   "cell_type": "code",
   "execution_count": 4,
   "metadata": {},
   "outputs": [],
   "source": [
    "for row in moma:\n",
    "    gender = row[5]\n",
    "    \n",
    "     # convert the gender to title case\n",
    "    gender = gender.title()\n",
    "    \n",
    "    # if there is no gender, set\n",
    "    # a descriptive value\n",
    "    if not gender:\n",
    "        gender = 'Gender Unknown/Other'\n",
    "    \n",
    "    row[5] = gender\n",
    "    \n",
    "    \n",
    "    nationality = row[2]\n",
    "    \n",
    "    nationality = nationality.title()\n",
    "    \n",
    "    if not nationality:\n",
    "        nationality = 'Nationality Unknown'\n",
    "    \n",
    "    row[2] = nationality\n",
    "    \n",
    "# print(moma)"
   ]
  },
  {
   "cell_type": "code",
   "execution_count": 5,
   "metadata": {},
   "outputs": [
    {
     "ename": "ValueError",
     "evalue": "invalid literal for int() with base 10: 'BeginDate'",
     "output_type": "error",
     "traceback": [
      "\u001b[0;31m---------------------------------------------------------------------------\u001b[0m",
      "\u001b[0;31mValueError\u001b[0m                                Traceback (most recent call last)",
      "\u001b[0;32m<ipython-input-5-e1fd4a10d374>\u001b[0m in \u001b[0;36m<module>\u001b[0;34m\u001b[0m\n\u001b[1;32m     12\u001b[0m     \u001b[0mdeath_date\u001b[0m \u001b[0;34m=\u001b[0m \u001b[0mrow\u001b[0m\u001b[0;34m[\u001b[0m\u001b[0;36m4\u001b[0m\u001b[0;34m]\u001b[0m\u001b[0;34m\u001b[0m\u001b[0;34m\u001b[0m\u001b[0m\n\u001b[1;32m     13\u001b[0m \u001b[0;34m\u001b[0m\u001b[0m\n\u001b[0;32m---> 14\u001b[0;31m     \u001b[0mbirth_date\u001b[0m \u001b[0;34m=\u001b[0m \u001b[0mclean_and_convert\u001b[0m\u001b[0;34m(\u001b[0m\u001b[0mbirth_date\u001b[0m\u001b[0;34m)\u001b[0m\u001b[0;34m\u001b[0m\u001b[0;34m\u001b[0m\u001b[0m\n\u001b[0m\u001b[1;32m     15\u001b[0m     \u001b[0mdeath_date\u001b[0m \u001b[0;34m=\u001b[0m \u001b[0mclean_and_convert\u001b[0m\u001b[0;34m(\u001b[0m\u001b[0mdeath_date\u001b[0m\u001b[0;34m)\u001b[0m\u001b[0;34m\u001b[0m\u001b[0;34m\u001b[0m\u001b[0m\n\u001b[1;32m     16\u001b[0m \u001b[0;34m\u001b[0m\u001b[0m\n",
      "\u001b[0;32m<ipython-input-5-e1fd4a10d374>\u001b[0m in \u001b[0;36mclean_and_convert\u001b[0;34m(date)\u001b[0m\n\u001b[1;32m      6\u001b[0m         \u001b[0mdate\u001b[0m \u001b[0;34m=\u001b[0m \u001b[0mdate\u001b[0m\u001b[0;34m.\u001b[0m\u001b[0mreplace\u001b[0m\u001b[0;34m(\u001b[0m\u001b[0;34m\"(\"\u001b[0m\u001b[0;34m,\u001b[0m \u001b[0;34m\"\"\u001b[0m\u001b[0;34m)\u001b[0m\u001b[0;34m\u001b[0m\u001b[0;34m\u001b[0m\u001b[0m\n\u001b[1;32m      7\u001b[0m         \u001b[0mdate\u001b[0m \u001b[0;34m=\u001b[0m \u001b[0mdate\u001b[0m\u001b[0;34m.\u001b[0m\u001b[0mreplace\u001b[0m\u001b[0;34m(\u001b[0m\u001b[0;34m\")\"\u001b[0m\u001b[0;34m,\u001b[0m \u001b[0;34m\"\"\u001b[0m\u001b[0;34m)\u001b[0m\u001b[0;34m\u001b[0m\u001b[0;34m\u001b[0m\u001b[0m\n\u001b[0;32m----> 8\u001b[0;31m         \u001b[0mdate\u001b[0m \u001b[0;34m=\u001b[0m \u001b[0mint\u001b[0m\u001b[0;34m(\u001b[0m\u001b[0mdate\u001b[0m\u001b[0;34m)\u001b[0m\u001b[0;34m\u001b[0m\u001b[0;34m\u001b[0m\u001b[0m\n\u001b[0m\u001b[1;32m      9\u001b[0m     \u001b[0;32mreturn\u001b[0m \u001b[0mdate\u001b[0m\u001b[0;34m\u001b[0m\u001b[0;34m\u001b[0m\u001b[0m\n\u001b[1;32m     10\u001b[0m \u001b[0;32mfor\u001b[0m \u001b[0mrow\u001b[0m \u001b[0;32min\u001b[0m \u001b[0mmoma\u001b[0m\u001b[0;34m:\u001b[0m\u001b[0;34m\u001b[0m\u001b[0;34m\u001b[0m\u001b[0m\n",
      "\u001b[0;31mValueError\u001b[0m: invalid literal for int() with base 10: 'BeginDate'"
     ]
    }
   ],
   "source": [
    "def clean_and_convert(date):\n",
    "    # check that we don't have an empty string\n",
    "    if date != \"\":\n",
    "        # move the rest of the function inside\n",
    "        # the if statement\n",
    "        date = date.replace(\"(\", \"\")\n",
    "        date = date.replace(\")\", \"\")\n",
    "        date = int(date)\n",
    "    return date\n",
    "for row in moma:\n",
    "    birth_date = row[3]\n",
    "    death_date = row[4]\n",
    "   \n",
    "    birth_date = clean_and_convert(birth_date)\n",
    "    death_date = clean_and_convert(death_date)\n",
    "    \n",
    "    row[3] = birth_date\n",
    "    row[4] = death_date\n",
    " "
   ]
  },
  {
   "cell_type": "code",
   "execution_count": null,
   "metadata": {},
   "outputs": [],
   "source": []
  }
 ],
 "metadata": {
  "kernelspec": {
   "display_name": "Python 3",
   "language": "python",
   "name": "python3"
  },
  "language_info": {
   "codemirror_mode": {
    "name": "ipython",
    "version": 3
   },
   "file_extension": ".py",
   "mimetype": "text/x-python",
   "name": "python",
   "nbconvert_exporter": "python",
   "pygments_lexer": "ipython3",
   "version": "3.7.6"
  }
 },
 "nbformat": 4,
 "nbformat_minor": 4
}
